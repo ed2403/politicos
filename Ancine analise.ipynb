{
 "cells": [
  {
   "cell_type": "markdown",
   "metadata": {},
   "source": [
    "# Dados Ancine\n",
    "Com base no dados da Ancine (http://oca.ancine.gov.br)"
   ]
  },
  {
   "cell_type": "code",
   "execution_count": 1,
   "metadata": {},
   "outputs": [],
   "source": [
    "import pandas as pd\n",
    "%matplotlib inline"
   ]
  },
  {
   "cell_type": "code",
   "execution_count": 39,
   "metadata": {},
   "outputs": [],
   "source": [
    "df = pd.read_excel('Ancine_mensal_2019.xlsx', sheet_name='Ranking_Filmes_Exibidos', \n",
    "                  skiprows=2, skipfooter=3) \n",
    "df1 = pd.read_excel('Ancine_mensal_2019.xlsx', sheet_name='Ranking_por_Municípios', \n",
    "                  skiprows=2, skipfooter=3) \n",
    "\n",
    "#Para pular linhas skiprows=2 (qtd linhas) skipfooter=16 (qtd linhas)\n",
    "#planilhas: Dados_Gerais, Ranking_Filmes_Exibidos, Ranking_por_UF, \n",
    "        #Ranking_por_Municípios, Ranking_por_Grupo_Exibidor, Ranking_por_Complexos"
   ]
  },
  {
   "cell_type": "code",
   "execution_count": 41,
   "metadata": {},
   "outputs": [
    {
     "data": {
      "text/html": [
       "<div>\n",
       "<style scoped>\n",
       "    .dataframe tbody tr th:only-of-type {\n",
       "        vertical-align: middle;\n",
       "    }\n",
       "\n",
       "    .dataframe tbody tr th {\n",
       "        vertical-align: top;\n",
       "    }\n",
       "\n",
       "    .dataframe thead th {\n",
       "        text-align: right;\n",
       "    }\n",
       "</style>\n",
       "<table border=\"1\" class=\"dataframe\">\n",
       "  <thead>\n",
       "    <tr style=\"text-align: right;\">\n",
       "      <th></th>\n",
       "      <th>Município</th>\n",
       "      <th>UF</th>\n",
       "      <th>Títulos Exibidos</th>\n",
       "      <th>Público</th>\n",
       "      <th>Renda (R$)</th>\n",
       "    </tr>\n",
       "  </thead>\n",
       "  <tbody>\n",
       "    <tr>\n",
       "      <th>420</th>\n",
       "      <td>BATATAIS</td>\n",
       "      <td>SP</td>\n",
       "      <td>4</td>\n",
       "      <td>289</td>\n",
       "      <td>2087</td>\n",
       "    </tr>\n",
       "    <tr>\n",
       "      <th>421</th>\n",
       "      <td>CÓRREGO FUNDO</td>\n",
       "      <td>MG</td>\n",
       "      <td>13</td>\n",
       "      <td>171</td>\n",
       "      <td>802</td>\n",
       "    </tr>\n",
       "    <tr>\n",
       "      <th>422</th>\n",
       "      <td>SANTO ANTÔNIO DO MONTE</td>\n",
       "      <td>MG</td>\n",
       "      <td>13</td>\n",
       "      <td>167</td>\n",
       "      <td>740</td>\n",
       "    </tr>\n",
       "    <tr>\n",
       "      <th>423</th>\n",
       "      <td>PAINS</td>\n",
       "      <td>MG</td>\n",
       "      <td>13</td>\n",
       "      <td>164</td>\n",
       "      <td>723</td>\n",
       "    </tr>\n",
       "    <tr>\n",
       "      <th>424</th>\n",
       "      <td>ITAPIPOCA</td>\n",
       "      <td>CE</td>\n",
       "      <td>1</td>\n",
       "      <td>2</td>\n",
       "      <td>30</td>\n",
       "    </tr>\n",
       "  </tbody>\n",
       "</table>\n",
       "</div>"
      ],
      "text/plain": [
       "                  Município  UF  Títulos Exibidos  Público  Renda (R$)\n",
       "420                BATATAIS  SP                 4      289        2087\n",
       "421           CÓRREGO FUNDO  MG                13      171         802\n",
       "422  SANTO ANTÔNIO DO MONTE  MG                13      167         740\n",
       "423                   PAINS  MG                13      164         723\n",
       "424               ITAPIPOCA  CE                 1        2          30"
      ]
     },
     "execution_count": 41,
     "metadata": {},
     "output_type": "execute_result"
    }
   ],
   "source": [
    "df1.tail()"
   ]
  },
  {
   "cell_type": "code",
   "execution_count": 14,
   "metadata": {},
   "outputs": [
    {
     "data": {
      "text/plain": [
       "(425, 5)"
      ]
     },
     "execution_count": 14,
     "metadata": {},
     "output_type": "execute_result"
    }
   ],
   "source": [
    "df.shape #Mostra o tamanho do DataFrame (linhas, colunas)"
   ]
  },
  {
   "cell_type": "code",
   "execution_count": 43,
   "metadata": {},
   "outputs": [
    {
     "data": {
      "text/plain": [
       "(Título da Obra                object\n",
       " CPB/ROE                       object\n",
       " Nacionalidade                 object\n",
       " Gênero                        object\n",
       " Data de Lançamento    datetime64[ns]\n",
       " Distribuidoras                object\n",
       " Público                        int64\n",
       " Renda (R$)                     int64\n",
       " dtype: object, Município           object\n",
       " UF                  object\n",
       " Títulos Exibidos     int64\n",
       " Público              int64\n",
       " Renda (R$)           int64\n",
       " dtype: object)"
      ]
     },
     "execution_count": 43,
     "metadata": {},
     "output_type": "execute_result"
    }
   ],
   "source": [
    "df.dtypes, df1.dtypes"
   ]
  },
  {
   "cell_type": "code",
   "execution_count": 45,
   "metadata": {},
   "outputs": [
    {
     "data": {
      "text/plain": [
       "2019    208\n",
       "2018    145\n",
       "2017     13\n",
       "2015      6\n",
       "2016      5\n",
       "2020      1\n",
       "2013      1\n",
       "2012      1\n",
       "Name: Data de Lançamento, dtype: int64"
      ]
     },
     "execution_count": 45,
     "metadata": {},
     "output_type": "execute_result"
    }
   ],
   "source": [
    "df['Data de Lançamento'].dt.year.value_counts()"
   ]
  },
  {
   "cell_type": "code",
   "execution_count": 46,
   "metadata": {},
   "outputs": [
    {
     "data": {
      "text/plain": [
       "<matplotlib.axes._subplots.AxesSubplot at 0x7f8ac7dfce10>"
      ]
     },
     "execution_count": 46,
     "metadata": {},
     "output_type": "execute_result"
    },
    {
     "data": {
      "image/png": "[encoded data removed]",
      "text/plain": [
       "<Figure size 432x288 with 1 Axes>"
      ]
     },
     "metadata": {
      "needs_background": "light"
     },
     "output_type": "display_data"
    }
   ],
   "source": [
    "df['Data de Lançamento'].dt.year.value_counts().plot.bar()"
   ]
  },
  {
   "cell_type": "code",
   "execution_count": 47,
   "metadata": {},
   "outputs": [
    {
     "data": {
      "text/html": [
       "<div>\n",
       "<style scoped>\n",
       "    .dataframe tbody tr th:only-of-type {\n",
       "        vertical-align: middle;\n",
       "    }\n",
       "\n",
       "    .dataframe tbody tr th {\n",
       "        vertical-align: top;\n",
       "    }\n",
       "\n",
       "    .dataframe thead th {\n",
       "        text-align: right;\n",
       "    }\n",
       "</style>\n",
       "<table border=\"1\" class=\"dataframe\">\n",
       "  <thead>\n",
       "    <tr style=\"text-align: right;\">\n",
       "      <th></th>\n",
       "      <th>Título da Obra</th>\n",
       "      <th>CPB/ROE</th>\n",
       "      <th>Nacionalidade</th>\n",
       "      <th>Gênero</th>\n",
       "      <th>Data de Lançamento</th>\n",
       "      <th>Distribuidoras</th>\n",
       "      <th>Público</th>\n",
       "      <th>Renda (R$)</th>\n",
       "    </tr>\n",
       "  </thead>\n",
       "  <tbody>\n",
       "    <tr>\n",
       "      <th>365</th>\n",
       "      <td>VINGADORES: ULTIMATO</td>\n",
       "      <td>E1900107800000</td>\n",
       "      <td>Filmes Estrangeiros</td>\n",
       "      <td>FICÇÃO</td>\n",
       "      <td>2019-04-25</td>\n",
       "      <td>DISNEY</td>\n",
       "      <td>19596581</td>\n",
       "      <td>337711708</td>\n",
       "    </tr>\n",
       "    <tr>\n",
       "      <th>86</th>\n",
       "      <td>CAPITÃ MARVEL</td>\n",
       "      <td>E1900011200000</td>\n",
       "      <td>Filmes Estrangeiros</td>\n",
       "      <td>FICÇÃO</td>\n",
       "      <td>2019-03-07</td>\n",
       "      <td>DISNEY</td>\n",
       "      <td>9000273</td>\n",
       "      <td>146878488</td>\n",
       "    </tr>\n",
       "    <tr>\n",
       "      <th>48</th>\n",
       "      <td>ALADDIN</td>\n",
       "      <td>E1900188100000</td>\n",
       "      <td>Filmes Estrangeiros</td>\n",
       "      <td>FICÇÃO</td>\n",
       "      <td>2019-05-23</td>\n",
       "      <td>DISNEY</td>\n",
       "      <td>4585517</td>\n",
       "      <td>76947673</td>\n",
       "    </tr>\n",
       "  </tbody>\n",
       "</table>\n",
       "</div>"
      ],
      "text/plain": [
       "           Título da Obra         CPB/ROE        Nacionalidade  Gênero  \\\n",
       "365  VINGADORES: ULTIMATO  E1900107800000  Filmes Estrangeiros  FICÇÃO   \n",
       "86          CAPITÃ MARVEL  E1900011200000  Filmes Estrangeiros  FICÇÃO   \n",
       "48                ALADDIN  E1900188100000  Filmes Estrangeiros  FICÇÃO   \n",
       "\n",
       "    Data de Lançamento Distribuidoras   Público  Renda (R$)  \n",
       "365         2019-04-25         DISNEY  19596581   337711708  \n",
       "86          2019-03-07         DISNEY   9000273   146878488  \n",
       "48          2019-05-23         DISNEY   4585517    76947673  "
      ]
     },
     "execution_count": 47,
     "metadata": {},
     "output_type": "execute_result"
    }
   ],
   "source": [
    "#Maior bilheteria\n",
    "df.nlargest(3, 'Renda (R$)')"
   ]
  },
  {
   "cell_type": "code",
   "execution_count": 48,
   "metadata": {},
   "outputs": [
    {
     "data": {
      "text/html": [
       "<div>\n",
       "<style scoped>\n",
       "    .dataframe tbody tr th:only-of-type {\n",
       "        vertical-align: middle;\n",
       "    }\n",
       "\n",
       "    .dataframe tbody tr th {\n",
       "        vertical-align: top;\n",
       "    }\n",
       "\n",
       "    .dataframe thead th {\n",
       "        text-align: right;\n",
       "    }\n",
       "</style>\n",
       "<table border=\"1\" class=\"dataframe\">\n",
       "  <thead>\n",
       "    <tr style=\"text-align: right;\">\n",
       "      <th></th>\n",
       "      <th>Título da Obra</th>\n",
       "      <th>CPB/ROE</th>\n",
       "      <th>Nacionalidade</th>\n",
       "      <th>Gênero</th>\n",
       "      <th>Data de Lançamento</th>\n",
       "      <th>Distribuidoras</th>\n",
       "      <th>Público</th>\n",
       "      <th>Renda (R$)</th>\n",
       "    </tr>\n",
       "  </thead>\n",
       "  <tbody>\n",
       "    <tr>\n",
       "      <th>15</th>\n",
       "      <td>A FÁBRICA DE NADA</td>\n",
       "      <td>E1700452900000</td>\n",
       "      <td>Filmes Estrangeiros</td>\n",
       "      <td>FICÇÃO</td>\n",
       "      <td>2018-09-27</td>\n",
       "      <td>Imovision</td>\n",
       "      <td>6</td>\n",
       "      <td>21</td>\n",
       "    </tr>\n",
       "    <tr>\n",
       "      <th>281</th>\n",
       "      <td>PAULISTAS</td>\n",
       "      <td>B1700590500000</td>\n",
       "      <td>Filmes Brasileiros</td>\n",
       "      <td>DOCUMENTÁRIO</td>\n",
       "      <td>2018-02-22</td>\n",
       "      <td>VITRINE FILMES</td>\n",
       "      <td>13</td>\n",
       "      <td>26</td>\n",
       "    </tr>\n",
       "    <tr>\n",
       "      <th>61</th>\n",
       "      <td>ANTES QUE TUDO DESAPAREÇA</td>\n",
       "      <td>E1800139000000</td>\n",
       "      <td>Filmes Estrangeiros</td>\n",
       "      <td>FICÇÃO</td>\n",
       "      <td>2018-04-12</td>\n",
       "      <td>Zeta Filmes</td>\n",
       "      <td>4</td>\n",
       "      <td>28</td>\n",
       "    </tr>\n",
       "  </tbody>\n",
       "</table>\n",
       "</div>"
      ],
      "text/plain": [
       "                Título da Obra         CPB/ROE        Nacionalidade  \\\n",
       "15           A FÁBRICA DE NADA  E1700452900000  Filmes Estrangeiros   \n",
       "281                  PAULISTAS  B1700590500000   Filmes Brasileiros   \n",
       "61   ANTES QUE TUDO DESAPAREÇA  E1800139000000  Filmes Estrangeiros   \n",
       "\n",
       "           Gênero Data de Lançamento  Distribuidoras  Público  Renda (R$)  \n",
       "15         FICÇÃO         2018-09-27       Imovision        6          21  \n",
       "281  DOCUMENTÁRIO         2018-02-22  VITRINE FILMES       13          26  \n",
       "61         FICÇÃO         2018-04-12     Zeta Filmes        4          28  "
      ]
     },
     "execution_count": 48,
     "metadata": {},
     "output_type": "execute_result"
    }
   ],
   "source": [
    "df.nsmallest(3, 'Renda (R$)')"
   ]
  },
  {
   "cell_type": "code",
   "execution_count": 49,
   "metadata": {},
   "outputs": [
    {
     "data": {
      "text/plain": [
       "Index(['Título da Obra', 'CPB/ROE', 'Nacionalidade', 'Gênero',\n",
       "       'Data de Lançamento', 'Distribuidoras', 'Público', 'Renda (R$)'],\n",
       "      dtype='object')"
      ]
     },
     "execution_count": 49,
     "metadata": {},
     "output_type": "execute_result"
    }
   ],
   "source": [
    "df.columns"
   ]
  },
  {
   "cell_type": "code",
   "execution_count": 50,
   "metadata": {},
   "outputs": [
    {
     "data": {
      "text/plain": [
       "Index(['Município', 'UF', 'Títulos Exibidos', 'Público', 'Renda (R$)'], dtype='object')"
      ]
     },
     "execution_count": 50,
     "metadata": {},
     "output_type": "execute_result"
    }
   ],
   "source": [
    "df1.columns"
   ]
  },
  {
   "cell_type": "code",
   "execution_count": 54,
   "metadata": {},
   "outputs": [
    {
     "ename": "TypeError",
     "evalue": "'method' object is not subscriptable",
     "output_type": "error",
     "traceback": [
      "\u001b[0;31m---------------------------------------------------------------------------\u001b[0m",
      "\u001b[0;31mTypeError\u001b[0m                                 Traceback (most recent call last)",
      "\u001b[0;32m<ipython-input-54-b442ea65fd67>\u001b[0m in \u001b[0;36m<module>\u001b[0;34m\u001b[0m\n\u001b[0;32m----> 1\u001b[0;31m \u001b[0mdf\u001b[0m\u001b[0;34m.\u001b[0m\u001b[0mgroupby\u001b[0m\u001b[0;34m[\u001b[0m\u001b[0;34m'Município'\u001b[0m\u001b[0;34m]\u001b[0m\u001b[0;34m\u001b[0m\u001b[0;34m\u001b[0m\u001b[0m\n\u001b[0m",
      "\u001b[0;31mTypeError\u001b[0m: 'method' object is not subscriptable"
     ]
    }
   ],
   "source": [
    "df.groupby['Município']"
   ]
  },
  {
   "cell_type": "code",
   "execution_count": null,
   "metadata": {},
   "outputs": [],
   "source": []
  }
 ],
 "metadata": {
  "kernelspec": {
   "display_name": "Python 3",
   "language": "python",
   "name": "python3"
  },
  "language_info": {
   "codemirror_mode": {
    "name": "ipython",
    "version": 3
   },
   "file_extension": ".py",
   "mimetype": "text/x-python",
   "name": "python",
   "nbconvert_exporter": "python",
   "pygments_lexer": "ipython3",
   "version": "3.7.3"
  }
 },
 "nbformat": 4,
 "nbformat_minor": 2
}
